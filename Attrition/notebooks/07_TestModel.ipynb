{
  "nbformat": 4,
  "nbformat_minor": 0,
  "metadata": {
    "colab": {
      "provenance": []
    },
    "kernelspec": {
      "name": "python3",
      "display_name": "Python 3"
    },
    "language_info": {
      "name": "python"
    }
  },
  "cells": [
    {
      "cell_type": "code",
      "execution_count": null,
      "metadata": {
        "id": "qVTiVcbQq1S4"
      },
      "outputs": [],
      "source": [
        "# e. Model Analysis\n",
        "# Predict on test data\n",
        "y_pred = log_reg.predict(X_test)"
      ]
    }
  ]
}
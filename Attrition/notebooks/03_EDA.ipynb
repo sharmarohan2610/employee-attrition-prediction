{
  "nbformat": 4,
  "nbformat_minor": 0,
  "metadata": {
    "colab": {
      "provenance": []
    },
    "kernelspec": {
      "name": "python3",
      "display_name": "Python 3"
    },
    "language_info": {
      "name": "python"
    }
  },
  "cells": [
    {
      "cell_type": "code",
      "execution_count": null,
      "metadata": {
        "id": "dUZQwtw2p1WO"
      },
      "outputs": [],
      "source": [
        "# c. Exploratory Data Analysis (EDA)\n",
        "# Univariate analysis for all variables\n",
        "# Separate for numerical and categorical columns\n",
        "numerical_columns = df.select_dtypes(include=['int64', 'float64']).columns.tolist()\n",
        "categorical_columns = df.select_dtypes(include=['object', 'bool']).columns.tolist()\n",
        "\n",
        "# Univariate analysis for numerical columns\n",
        "plt.figure(figsize=(15, 20))\n",
        "for i, col in enumerate(numerical_columns, 1):\n",
        "    plt.subplot(len(numerical_columns)//3 + 1, 3, i)\n",
        "    sns.histplot(df[col], kde=True)\n",
        "    plt.title(f'Distribution of {col}')\n",
        "    plt.xlabel(col)\n",
        "    plt.ylabel('Count')\n",
        "plt.tight_layout()\n",
        "plt.show()\n",
        "\n",
        "# Univariate analysis for categorical columns\n",
        "plt.figure(figsize=(15, 20))\n",
        "for i, col in enumerate(categorical_columns, 1):\n",
        "    plt.subplot(len(categorical_columns)//3 + 1, 3, i)\n",
        "    sns.countplot(x=col, data=df)\n",
        "    plt.title(f'Distribution of {col}')\n",
        "    plt.xlabel(col)\n",
        "    plt.ylabel('Count')\n",
        "    plt.xticks(rotation=90)\n",
        "plt.tight_layout()\n",
        "plt.show()"
      ]
    }
  ]
}
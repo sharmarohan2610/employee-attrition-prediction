{
  "nbformat": 4,
  "nbformat_minor": 0,
  "metadata": {
    "colab": {
      "provenance": []
    },
    "kernelspec": {
      "name": "python3",
      "display_name": "Python 3"
    },
    "language_info": {
      "name": "python"
    }
  },
  "cells": [
    {
      "cell_type": "code",
      "execution_count": null,
      "metadata": {
        "id": "181mXWyNqbg8"
      },
      "outputs": [],
      "source": [
        "# Hypothesis Testing\n",
        "# List of categorical columns based on the dataset description\n",
        "categorical_columns = [\n",
        "    'BusinessTravel', 'Department', 'Education', 'EducationField', 'EnvironmentSatisfaction',\n",
        "    'Gender', 'JobInvolvement', 'JobLevel', 'JobRole', 'JobSatisfaction',\n",
        "    'MaritalStatus', 'OverTime', 'PerformanceRating', 'RelationshipSatisfaction',\n",
        "    'StockOptionLevel', 'WorkLifeBalance'\n",
        "]\n",
        "\n",
        "# Ensure 'Attrition' is in the categorical_columns list\n",
        "categorical_columns = [col for col in categorical_columns if col in df.columns]\n",
        "\n",
        "# Create a function to reverse one-hot encoding for chi-square tests\n",
        "def reverse_one_hot_encoding(df, prefix):\n",
        "    one_hot_columns = [col for col in df.columns if col.startswith(prefix)]\n",
        "    return df[one_hot_columns].idxmax(axis=1).apply(lambda x: x.replace(prefix, '').strip())\n",
        "\n",
        "# Dictionary to store results\n",
        "results = {}\n",
        "\n",
        "# Perform chi-square test for each categorical variable against 'Attrition'\n",
        "for col in categorical_columns:\n",
        "    if col in df.columns:\n",
        "        print(f\"Performing chi-square test for column: {col}\")\n",
        "        contingency_table = pd.crosstab(df['Attrition'], df[col])\n",
        "        chi2, p, dof, expected = chi2_contingency(contingency_table)\n",
        "        results[col] = {'chi2': chi2, 'p-value': p}\n",
        "    else:\n",
        "        # Handling one-hot encoded columns\n",
        "        one_hot_df = reverse_one_hot_encoding(df, col)\n",
        "        contingency_table = pd.crosstab(df['Attrition'], one_hot_df)\n",
        "        chi2, p, dof, expected = chi2_contingency(contingency_table)\n",
        "        results[col] = {'chi2': chi2, 'p-value': p}\n",
        "\n",
        "# Print results\n",
        "print(\"Chi-square test results:\")\n",
        "for col, result in results.items():\n",
        "    print(f\"Chi-square test between Attrition and {col}:\")\n",
        "    print(f\"  Chi2 value: {result['chi2']:.2f}\")\n",
        "    print(f\"  p-value: {result['p-value']:.4f}\")\n",
        "    if result['p-value'] < 0.05:\n",
        "        print(\"  Result: Statistically significant (Reject null hypothesis)\")\n",
        "    else:\n",
        "        print(\"  Result: Not statistically significant (Fail to reject null hypothesis)\")\n",
        "    print()"
      ]
    }
  ]
}
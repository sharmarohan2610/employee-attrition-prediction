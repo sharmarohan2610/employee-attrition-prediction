{
  "nbformat": 4,
  "nbformat_minor": 0,
  "metadata": {
    "colab": {
      "provenance": []
    },
    "kernelspec": {
      "name": "python3",
      "display_name": "Python 3"
    },
    "language_info": {
      "name": "python"
    }
  },
  "cells": [
    {
      "cell_type": "code",
      "execution_count": null,
      "metadata": {
        "id": "NrYv8PIRqSYM"
      },
      "outputs": [],
      "source": [
        "# Bi-variate analysis\n",
        "plt.figure(figsize=(14, 10))\n",
        "sns.heatmap(df.corr(), annot=True, fmt='.2f', cmap='coolwarm')\n",
        "plt.title('Correlation Heatmap')\n",
        "plt.show()"
      ]
    }
  ]
}
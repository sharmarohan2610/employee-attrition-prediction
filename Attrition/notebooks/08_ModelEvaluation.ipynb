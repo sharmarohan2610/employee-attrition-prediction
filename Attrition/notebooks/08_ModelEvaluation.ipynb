{
  "nbformat": 4,
  "nbformat_minor": 0,
  "metadata": {
    "colab": {
      "provenance": []
    },
    "kernelspec": {
      "name": "python3",
      "display_name": "Python 3"
    },
    "language_info": {
      "name": "python"
    }
  },
  "cells": [
    {
      "cell_type": "code",
      "execution_count": null,
      "metadata": {
        "id": "QygR_bnnrBU7"
      },
      "outputs": [],
      "source": [
        "# Model evaluation\n",
        "print('Confusion Matrix:')\n",
        "conf_matrix = confusion_matrix(y_test, y_pred)\n",
        "print(conf_matrix)\n",
        "print('Classification Report:')\n",
        "class_report = classification_report(y_test, y_pred, output_dict=True)\n",
        "class_report_df = pd.DataFrame(class_report).transpose()\n",
        "print(class_report_df.round(2))\n",
        "print('Accuracy Score:', round(accuracy_score(y_test, y_pred), 2))"
      ]
    }
  ]
}
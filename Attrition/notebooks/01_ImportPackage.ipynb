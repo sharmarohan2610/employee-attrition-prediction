{
  "nbformat": 4,
  "nbformat_minor": 0,
  "metadata": {
    "colab": {
      "provenance": []
    },
    "kernelspec": {
      "name": "python3",
      "display_name": "Python 3"
    },
    "language_info": {
      "name": "python"
    }
  },
  "cells": [
    {
      "cell_type": "code",
      "execution_count": null,
      "metadata": {
        "id": "uqSTDuXmpSW6"
      },
      "outputs": [],
      "source": [
        "# Import required libraries\n",
        "import pandas as pd\n",
        "import numpy as np\n",
        "import matplotlib.pyplot as plt\n",
        "import seaborn as sns\n",
        "from sklearn.model_selection import train_test_split\n",
        "from sklearn.linear_model import LogisticRegression\n",
        "from sklearn.metrics import classification_report, confusion_matrix, accuracy_score\n",
        "from scipy.stats import chi2_contingency\n",
        "\n",
        "# Load the dataset\n",
        "file_path = r'C:/Users/lenovo/Desktop/USD/AAI-500/Module_7/HR_Employee_Attrition.csv'\n",
        "\n",
        "file_path = 'HR_Employee_Attrition.csv'\n",
        "df = pd.read_csv(file_path)"
      ]
    }
  ]
}
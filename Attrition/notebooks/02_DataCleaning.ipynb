{
  "nbformat": 4,
  "nbformat_minor": 0,
  "metadata": {
    "colab": {
      "provenance": []
    },
    "kernelspec": {
      "name": "python3",
      "display_name": "Python 3"
    },
    "language_info": {
      "name": "python"
    }
  },
  "cells": [
    {
      "cell_type": "code",
      "execution_count": null,
      "metadata": {
        "id": "dUZQwtw2p1WO"
      },
      "outputs": [],
      "source": [
        "# a. Introduction\n",
        "print(\"Introduction: Analyzing the factors behind employee attrition\")\n",
        "\n",
        "# b. Data Cleaning/Preparation\n",
        "# Check for missing values\n",
        "print(\"Missing values in each column:\")\n",
        "print(df.isnull().sum())\n",
        "\n",
        "# Drop columns that won't be used for analysis\n",
        "df.drop(['EmployeeNumber', 'EmployeeCount', 'Over18', 'StandardHours'], axis=1, inplace=True)\n",
        "\n",
        "# Encode 'Attrition' column\n",
        "df['Attrition'] = df['Attrition'].map({'No': 0, 'Yes': 1})\n",
        "\n",
        "# Encode other categorical variables\n",
        "categorical_columns = df.select_dtypes(include=['object']).columns\n",
        "df = pd.get_dummies(df, columns=categorical_columns, drop_first=True)\n",
        "\n",
        "# Check the first few rows of the dataframe\n",
        "print(df.head())"
      ]
    }
  ]
}
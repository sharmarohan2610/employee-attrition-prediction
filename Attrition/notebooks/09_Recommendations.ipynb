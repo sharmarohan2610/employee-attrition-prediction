{
  "nbformat": 4,
  "nbformat_minor": 0,
  "metadata": {
    "colab": {
      "provenance": []
    },
    "kernelspec": {
      "name": "python3",
      "display_name": "Python 3"
    },
    "language_info": {
      "name": "python"
    }
  },
  "cells": [
    {
      "cell_type": "code",
      "execution_count": null,
      "metadata": {
        "id": "8AJsh_a4rIbY"
      },
      "outputs": [],
      "source": [
        "# f. Conclusion and Recommendations\n",
        "# Summary of findings\n",
        "print(\"Model coefficients:\")\n",
        "coef_df = pd.DataFrame(log_reg.coef_.flatten(), X.columns, columns=['Coefficient'])\n",
        "print(coef_df.sort_values(by='Coefficient', ascending=False).round(2))"
      ]
    }
  ]
}